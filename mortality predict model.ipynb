{
 "cells": [
  {
   "cell_type": "code",
   "execution_count": 1,
   "metadata": {},
   "outputs": [],
   "source": [
    "import pandas as pd\n",
    "import numpy as np"
   ]
  },
  {
   "cell_type": "code",
   "execution_count": 2,
   "metadata": {},
   "outputs": [],
   "source": [
    "# 输入数据\n",
    "df = pd.read_excel('regression.xlsx')"
   ]
  },
  {
   "cell_type": "markdown",
   "metadata": {
    "collapsed": true
   },
   "source": [
    "##### Step_1: Combine Country and Age-Group to create new names"
   ]
  },
  {
   "cell_type": "code",
   "execution_count": 3,
   "metadata": {},
   "outputs": [],
   "source": [
    "# 读取需要的变量名\n",
    "\n",
    "# get the individual country/age_group names\n",
    "country_name = df['ISO'].unique()\n",
    "Age_group_name = df['Age group'].unique()\n",
    "\n",
    "\n",
    "# combine country and age_group to prodice new combination names\n",
    "country_age_group_name = [j + i for j in country_name\n",
    "                                 for i in Age_group_name]"
   ]
  },
  {
   "cell_type": "code",
   "execution_count": 4,
   "metadata": {},
   "outputs": [],
   "source": [
    "# 创建变量\n",
    "for name in Age_group_name.tolist() + country_age_group_name:\n",
    "    df[name] = 0 #创建新列存放变量数据，默认初始值为0"
   ]
  },
  {
   "cell_type": "code",
   "execution_count": 5,
   "metadata": {},
   "outputs": [],
   "source": [
    "# Change the correspoding value to 1, here use df.at will significatly \n",
    "# increse the efficiency\n",
    "for idx,row in df.iterrows():\n",
    "    \n",
    "    # get time for later multiply with\n",
    "    time = row['Time']\n",
    "    \n",
    "    # find the position that need to be changed to 1\n",
    "    age_group = row['Age group']\n",
    "    age_group_country = row['ISO'] + age_group\n",
    "    \n",
    "    # change the box into 1\n",
    "    df.at[idx,age_group] = 1 * time\n",
    "    df.at[idx,age_group_country] = 1"
   ]
  },
  {
   "cell_type": "markdown",
   "metadata": {},
   "source": [
    "##### Step_2: linear regression and get the coefficients"
   ]
  },
  {
   "cell_type": "code",
   "execution_count": 6,
   "metadata": {},
   "outputs": [],
   "source": [
    "# get X , y\n",
    "idx_lograte = list(df.columns).index('lnrate')\n",
    "X_columns = df.columns[idx_lograte+1:]\n",
    "\n",
    "X = df[X_columns]\n",
    "y = df['lnrate']"
   ]
  },
  {
   "cell_type": "code",
   "execution_count": 7,
   "metadata": {},
   "outputs": [
    {
     "data": {
      "text/plain": [
       "LinearRegression(copy_X=True, fit_intercept=True, n_jobs=1, normalize=False)"
      ]
     },
     "execution_count": 7,
     "metadata": {},
     "output_type": "execute_result"
    }
   ],
   "source": [
    "# linear fit\n",
    "from sklearn.linear_model import LinearRegression\n",
    "\n",
    "# to fit\n",
    "ln = LinearRegression()\n",
    "\n",
    "ln.fit(X,y)"
   ]
  },
  {
   "cell_type": "code",
   "execution_count": 8,
   "metadata": {},
   "outputs": [],
   "source": [
    "# store the coefficients to a dataframe\n",
    "names = X_columns\n",
    "coef = ln.coef_\n",
    "intercept = ln.intercept_\n",
    "\n",
    "# create the result_df\n",
    "result = pd.DataFrame({'name':names,'coef':coef})\n"
   ]
  },
  {
   "cell_type": "code",
   "execution_count": 9,
   "metadata": {
    "scrolled": false
   },
   "outputs": [
    {
     "data": {
      "text/plain": [
       "6.553165474615916"
      ]
     },
     "execution_count": 9,
     "metadata": {},
     "output_type": "execute_result"
    }
   ],
   "source": [
    "intercept"
   ]
  },
  {
   "cell_type": "code",
   "execution_count": 10,
   "metadata": {},
   "outputs": [],
   "source": [
    "result\n",
    "result.to_csv('./coef.csv')"
   ]
  },
  {
   "cell_type": "code",
   "execution_count": 11,
   "metadata": {},
   "outputs": [
    {
     "data": {
      "text/plain": [
       "0.9965440862513545"
      ]
     },
     "execution_count": 11,
     "metadata": {},
     "output_type": "execute_result"
    }
   ],
   "source": [
    "# some extra work: let's see what is the R2\n",
    "from sklearn.metrics import r2_score\n",
    "\n",
    "pred = ln.predict(X)\n",
    "\n",
    "r2 = r2_score(y,pred)\n",
    "\n",
    "r2"
   ]
  },
  {
   "cell_type": "code",
   "execution_count": 12,
   "metadata": {},
   "outputs": [],
   "source": [
    "#compare the predict value to original value\n",
    "result2=pd.DataFrame({'Original':y,'Prediction':pred})\n",
    "result2.to_csv('./pred.csv')"
   ]
  },
  {
   "cell_type": "code",
   "execution_count": null,
   "metadata": {},
   "outputs": [],
   "source": []
  }
 ],
 "metadata": {
  "kernelspec": {
   "display_name": "Python 3",
   "language": "python",
   "name": "python3"
  },
  "language_info": {
   "codemirror_mode": {
    "name": "ipython",
    "version": 3
   },
   "file_extension": ".py",
   "mimetype": "text/x-python",
   "name": "python",
   "nbconvert_exporter": "python",
   "pygments_lexer": "ipython3",
   "version": "3.7.6"
  }
 },
 "nbformat": 4,
 "nbformat_minor": 2
}
